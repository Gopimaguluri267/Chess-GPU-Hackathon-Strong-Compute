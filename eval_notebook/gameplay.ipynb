{
 "cells": [
  {
   "cell_type": "markdown",
   "metadata": {},
   "source": [
    "# Chess Gameplay\n",
    "\n",
    "First import our `chess_gameplay` module."
   ]
  },
  {
   "cell_type": "code",
   "execution_count": 1,
   "metadata": {},
   "outputs": [],
   "source": [
    "import chess_gameplay as chg"
   ]
  },
  {
   "cell_type": "markdown",
   "metadata": {},
   "source": [
    "## Playing a game\n",
    "\n",
    "Let's take a look at how games will be played in the tournament. Before running this cell, open the `demo.png` file alongside so you can watch the action!"
   ]
  },
  {
   "cell_type": "code",
   "execution_count": 2,
   "metadata": {},
   "outputs": [
    {
     "name": "stdout",
     "output_type": "stream",
     "text": [
      "white: g3\n",
      "black: Nh6\n",
      "white: Na3\n",
      "black: g6\n",
      "white: e3\n",
      "black: Ng4\n",
      "white: h3\n",
      "black: Bh6\n",
      "white: d3\n",
      "black: Nh2\n",
      "Max moves reached.\n",
      "White score: 0.523, Black score: 0.477\n"
     ]
    }
   ],
   "source": [
    "# Instantiate agents and record team names. Note we're instantiating Agents with no arguments. These agents have been\n",
    "# passed no models to inform their selections, so they will play purely random moves.\n",
    "\n",
    "agents = {'white': chg.Agent(), 'black': chg.Agent()}\n",
    "teams = {'white': 'Team White', 'black': 'Team Black'}\n",
    "\n",
    "# Then call the `play_game` function. Note that we're playing here to a maximum depth of 5 moves each. In the\n",
    "# tournament we will be playing to a maximum depth of 50 moves. We are also passing \"poseval\"=True which means \n",
    "# we will use StockFish to evaluate the board state after each move. These evaluations are used to update the \n",
    "# eval bar on the left side of the board rendering in `demo.png`. StockFish will be constrained by a time limit\n",
    "# of 2 seconds and a depth limit of 25.\n",
    "\n",
    "game_result = chg.play_game(\n",
    "    agents, \n",
    "    teams, \n",
    "    max_moves=5, \n",
    "    min_seconds_per_move=0, \n",
    "    verbose=True, \n",
    "    poseval=True, \n",
    "    image_path=\"demo.png\"\n",
    ")\n",
    "\n",
    "# Run this cell. A file `demo.pgn` will be saved to this repo directory which you can open and watch as it is \n",
    "# updated with moves from the game. The game may end in a checkmate, in which case the winner will recieve 1 point \n",
    "# and the loser will receieve 0 points. If the game ends in a draw or a stalemate, both will receieve 0 points. If \n",
    "# the maximum number of moves is reached without a conclusion to the game, the StockFish evaluations of the final \n",
    "# board state are used as the points for each Agent. For each pairing in the tournament, teams will play once as \n",
    "# white and once as black. The winner of the pairing will be the team with the highest score summed over the two \n",
    "# games. In the event of a draw, the pairing will be played again until a winner is declared."
   ]
  },
  {
   "cell_type": "markdown",
   "metadata": {},
   "source": [
    "## Agents using models\n",
    "\n",
    "Until you have trained a model and saved a checkpoint, you will not be able to run the following cell, but you can see how your model will be called and passed to an Agent to play with."
   ]
  },
  {
   "cell_type": "code",
   "execution_count": null,
   "metadata": {},
   "outputs": [],
   "source": [
    "import torch\n",
    "import yaml\n",
    "\n",
    "# Your model must be imported exactly as follows; from a module called \"model\" (a file called \"model.py\") and with\n",
    "# the class name \"Model\".\n",
    "\n",
    "from model import Model\n",
    "\n",
    "# All necessary arguments for your model to initialize with must be saved in a YAML file called \"model_config.yaml\"\n",
    "# so that your model can be instantiated exactly as follows. Your model must NOT require any initialization arguments\n",
    "# besides those described in your \"model_config.yaml\" file.\n",
    "\n",
    "model_config = yaml.safe_load(open(\"theta_hat_submission/model_config.yaml\"))\n",
    "model = Model(**model_config)\n",
    "\n",
    "# Your model checkpoint must be called \"checkpoint.pt\" and must be a dictionary-like object with your model weights\n",
    "# stored at the key \"model\" so that it can be loaded into your model exactly as follows.\n",
    "\n",
    "checkpoint = torch.load(\"theta_hat_submission/checkpoint.pt\", map_location=\"cpu\")\n",
    "model.load_state_dict(checkpoint[\"model\"])\n",
    "\n",
    "# Note: when you load your model weights you may see the following warning. You can safely ignore this warning.\n",
    "\n",
    "ignore = \"\"\"\n",
    "/root/.chess/lib/python3.10/site-packages/torch/cuda/__init__.py:619: UserWarning: Can't initialize NVML\n",
    "  warnings.warn(\"Can't initialize NVML\")\n",
    "\"\"\""
   ]
  },
  {
   "cell_type": "code",
   "execution_count": 8,
   "metadata": {},
   "outputs": [],
   "source": [
    "from chess.engine import SimpleEngine, Limit\n",
    "import chess.engine\n",
    "\n",
    "STOCKFISH_PATH = '/root/chess-hackathon-4/utils/stockfish'\n",
    "\n",
    "from random import choice, choices\n",
    "def create_stockfish_agent(elo_rating=1800, time_limit=0.2):\n",
    "    \"\"\"Creates an agent that uses Stockfish with a specific ELO rating\"\"\"\n",
    "    class StockfishAgent(chg.Agent):\n",
    "        def __init__(self):\n",
    "            super().__init__()\n",
    "            # Initialize Stockfish engine\n",
    "            self.engine = SimpleEngine.popen_uci(STOCKFISH_PATH)\n",
    "            self.engine.configure({\"Skill Level\": elo_rating // 100})  # Approximate ELO to skill level\n",
    "            self.time_limit = time_limit\n",
    "            self.board = chess.Board()  # Initialize a board to track the game state\n",
    "\n",
    "        def select_move(self, pgn, legal_move_sans):\n",
    "            # Update board state based on PGN\n",
    "            self.board = chess.Board()\n",
    "            if pgn and len(pgn) > 1:  # If there's a PGN history\n",
    "                moves = pgn.split()\n",
    "                for move in moves:\n",
    "                    if '.' not in move:  # Skip move numbers\n",
    "                        try:\n",
    "                            self.board.push_san(move)\n",
    "                        except ValueError:\n",
    "                            continue\n",
    "\n",
    "            # Get Stockfish's move recommendation\n",
    "            result = self.engine.play(self.board, chess.engine.Limit(time=self.time_limit))\n",
    "            \n",
    "            # Convert the move to SAN format\n",
    "            selected_move_san = self.board.san(result.move)\n",
    "            \n",
    "            # Verify the move is legal\n",
    "            if selected_move_san in legal_move_sans:\n",
    "                return selected_move_san\n",
    "            else:\n",
    "                # Fallback to random move if Stockfish suggests an illegal move\n",
    "                return choice(legal_move_sans)\n",
    "\n",
    "        def __del__(self):\n",
    "            if hasattr(self, 'engine'):\n",
    "                self.engine.quit()\n",
    "\n",
    "    return StockfishAgent()"
   ]
  },
  {
   "cell_type": "code",
   "execution_count": 10,
   "metadata": {},
   "outputs": [
    {
     "name": "stdout",
     "output_type": "stream",
     "text": [
      "white: g3\n",
      "black: d5\n",
      "white: Nf3\n",
      "black: c6\n",
      "white: c4\n",
      "black: g6\n",
      "white: Bg2\n",
      "black: d4\n",
      "white: d3\n",
      "black: Nf6\n",
      "white: Bf4\n",
      "black: Ne4\n",
      "white: O-O\n",
      "black: Nd2\n",
      "white: Nbxd2\n",
      "black: c5\n",
      "white: Ne4\n",
      "black: f6\n",
      "white: Nxc5\n",
      "black: Na6\n",
      "Max moves reached.\n",
      "White score: 0.535, Black score: 0.465\n"
     ]
    }
   ],
   "source": [
    "# The model is passed as the first positional argument to the Agent, and is then available to the agent to use for\n",
    "# selecting moves in the game.\n",
    "\n",
    "# agents = {'white': chg.Agent(model), 'black': chg.Agent(model)}\n",
    "# teams = {'white': 'Team White', 'black': 'Team Black'}\n",
    "\n",
    "agents = {'white': chg.Agent(model), 'black': create_stockfish_agent()}\n",
    "teams = {'white': 'My Model', 'black': 'StockFish Engine'}\n",
    "\n",
    "# agents = {'white': create_stockfish_agent(), 'black': chg.Agent(model)}\n",
    "# teams = {'white': 'StockFish Engine', 'black': 'My Model'}\n",
    "\n",
    "\n",
    "game_result = chg.play_game(\n",
    "    agents, \n",
    "    teams, \n",
    "    max_moves=10, \n",
    "    min_seconds_per_move=2,\n",
    "    verbose=True, \n",
    "    poseval=True, \n",
    "    image_path=\"demo_2.png\"\n",
    ")"
   ]
  },
  {
   "cell_type": "code",
   "execution_count": null,
   "metadata": {},
   "outputs": [],
   "source": []
  },
  {
   "cell_type": "code",
   "execution_count": null,
   "metadata": {},
   "outputs": [],
   "source": [
    "# model checkpoints we have so far for a chess vision model:\n",
    "    \n",
    "#     model checkpoint 510 : White score: 0.485, Black score: 0.515\n",
    "\n",
    "#     model checkpoint 490 : White score: 0.499, Black score: 0.501\n",
    "\n",
    "#     model checkpoint 720 : White score: 0.537, Black score: 0.463\n"
   ]
  },
  {
   "cell_type": "code",
   "execution_count": null,
   "metadata": {},
   "outputs": [],
   "source": []
  }
 ],
 "metadata": {
  "kernelspec": {
   "display_name": "texttoimage",
   "language": "python",
   "name": "python3"
  },
  "language_info": {
   "codemirror_mode": {
    "name": "ipython",
    "version": 3
   },
   "file_extension": ".py",
   "mimetype": "text/x-python",
   "name": "python",
   "nbconvert_exporter": "python",
   "pygments_lexer": "ipython3",
   "version": "3.12.4"
  }
 },
 "nbformat": 4,
 "nbformat_minor": 2
}
