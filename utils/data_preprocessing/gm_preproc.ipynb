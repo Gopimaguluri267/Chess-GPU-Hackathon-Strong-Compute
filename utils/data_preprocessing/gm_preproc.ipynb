{
 "cells": [
  {
   "cell_type": "code",
   "execution_count": 12,
   "metadata": {},
   "outputs": [],
   "source": [
    "import sys\n",
    "import os\n",
    "\n",
    "# Add the directory containing data_utils.py to the Python path\n",
    "module_dir = os.path.abspath('/root/chess-hackathon-4/utils')\n",
    "sys.path.insert(0, module_dir)"
   ]
  },
  {
   "cell_type": "code",
   "execution_count": 15,
   "metadata": {},
   "outputs": [
    {
     "ename": "ImportError",
     "evalue": "attempted relative import with no known parent package",
     "output_type": "error",
     "traceback": [
      "\u001b[0;31m---------------------------------------------------------------------------\u001b[0m",
      "\u001b[0;31mImportError\u001b[0m                               Traceback (most recent call last)",
      "Cell \u001b[0;32mIn[15], line 1\u001b[0m\n\u001b[0;32m----> 1\u001b[0m \u001b[38;5;28;01mimport\u001b[39;00m \u001b[38;5;21;01mdata_utils\u001b[39;00m\u001b[38;5;21;01m.\u001b[39;00m\u001b[38;5;21;01mpy\u001b[39;00m \u001b[38;5;28;01mas\u001b[39;00m \u001b[38;5;21;01mdpu\u001b[39;00m\n\u001b[1;32m      2\u001b[0m \u001b[38;5;28;01mfrom\u001b[39;00m \u001b[38;5;21;01mtqdm\u001b[39;00m \u001b[38;5;28;01mimport\u001b[39;00m tqdm\n\u001b[1;32m      4\u001b[0m \u001b[38;5;66;03m# 10 Best players of all time\u001b[39;00m\n\u001b[1;32m      5\u001b[0m \u001b[38;5;66;03m# https://www.chess.com/article/view/best-chess-players-of-all-time\u001b[39;00m\n",
      "File \u001b[0;32m~/chess-hackathon-4/utils/data_utils.py:14\u001b[0m\n\u001b[1;32m     12\u001b[0m \u001b[38;5;28;01mfrom\u001b[39;00m \u001b[38;5;21;01mpathlib\u001b[39;00m \u001b[38;5;28;01mimport\u001b[39;00m Path\n\u001b[1;32m     13\u001b[0m \u001b[38;5;28;01mfrom\u001b[39;00m \u001b[38;5;21;01mbs4\u001b[39;00m \u001b[38;5;28;01mimport\u001b[39;00m BeautifulSoup\n\u001b[0;32m---> 14\u001b[0m \u001b[38;5;28;01mfrom\u001b[39;00m \u001b[38;5;21;01m.\u001b[39;00m\u001b[38;5;21;01mconstants\u001b[39;00m \u001b[38;5;28;01mimport\u001b[39;00m LCZERO_TEST60_URL, PGN_CHARS, PIECE_CHARS, STOCKFISH_PATH\n\u001b[1;32m     16\u001b[0m \u001b[38;5;66;03m## -- Generating Dataset of Leela Chess Zero PGNs in HDF format -- ##\u001b[39;00m\n\u001b[1;32m     18\u001b[0m \u001b[38;5;28;01mdef\u001b[39;00m \u001b[38;5;21mscrape_tar_bz2_links\u001b[39m(url\u001b[38;5;241m=\u001b[39mLCZERO_TEST60_URL):\n",
      "\u001b[0;31mImportError\u001b[0m: attempted relative import with no known parent package"
     ]
    }
   ],
   "source": [
    "import data_utils.py as dpu\n",
    "from tqdm import tqdm\n",
    "\n",
    "# 10 Best players of all time\n",
    "# https://www.chess.com/article/view/best-chess-players-of-all-time\n",
    "urls = []\n",
    "# 1. Garry Kasparov\n",
    "urls.append(\"https://www.pgnmentor.com/players/Kasparov.zip\")\n",
    "# 2. Magnus Carlsen\n",
    "urls.append(\"https://www.pgnmentor.com/players/Carlsen.zip\")\n",
    "# 3. Bobby Fischer\n",
    "urls.append(\"https://www.pgnmentor.com/players/Fischer.zip\")\n",
    "# 4. José Raúl Capablanca\n",
    "urls.append(\"https://www.pgnmentor.com/players/Capablanca.zip\")\n",
    "# 5. Anatoly Karpov\n",
    "urls.append(\"https://www.pgnmentor.com/players/Karpov.zip\")\n",
    "# 6. Mikhail Botvinnik\n",
    "urls.append(\"https://www.pgnmentor.com/players/Botvinnik.zip\")\n",
    "# 7. Vladimir Kramnik\n",
    "urls.append(\"https://www.pgnmentor.com/players/Kramnik.zip\")\n",
    "# 8. Emanuel Lasker\n",
    "urls.append(\"https://www.pgnmentor.com/players/Lasker.zip\")\n",
    "# 9. Mikhail Tal\n",
    "urls.append(\"https://www.pgnmentor.com/players/Tal.zip\")\n",
    "# 10. Alexander Alekhine\n",
    "urls.append(\"https://www.pgnmentor.com/players/Alekhine.zip\")\n",
    "\n",
    "metas, pgns = [], []\n",
    "for url in tqdm(urls):\n",
    "    m, p = dpu.download_gm_pgns(url)\n",
    "    metas += m\n",
    "    pgns += p\n",
    "\n",
    "dest_dir = \"/root/chess-hackathon-4/data/gm_pgn_hdfs\"\n",
    "dpu.save_pgn_batch_to_hdf(pgns, hdf_count=0, dest_dir=dest_dir, metas=metas)\n",
    "dpu.write_inventory(dest_dir, [len(pgns)], [\"pgnHDF0.h5\"])"
   ]
  },
  {
   "cell_type": "code",
   "execution_count": 9,
   "metadata": {},
   "outputs": [
    {
     "ename": "ImportError",
     "evalue": "attempted relative import with no known parent package",
     "output_type": "error",
     "traceback": [
      "\u001b[0;31m---------------------------------------------------------------------------\u001b[0m",
      "\u001b[0;31mImportError\u001b[0m                               Traceback (most recent call last)",
      "Cell \u001b[0;32mIn[9], line 1\u001b[0m\n\u001b[0;32m----> 1\u001b[0m \u001b[38;5;28;01mfrom\u001b[39;00m \u001b[38;5;21;01m.\u001b[39;00m\u001b[38;5;21;01m.\u001b[39;00m\u001b[38;5;21;01mdatasets\u001b[39;00m \u001b[38;5;28;01mimport\u001b[39;00m PGN_HDF_Dataset\n\u001b[1;32m      3\u001b[0m dest_dir \u001b[38;5;241m=\u001b[39m \u001b[38;5;124m\"\u001b[39m\u001b[38;5;124m/root/chess-hackathon-4/data/gm_pgn_hdfs\u001b[39m\u001b[38;5;124m\"\u001b[39m\n\u001b[1;32m      4\u001b[0m ds \u001b[38;5;241m=\u001b[39m PGN_HDF_Dataset(dest_dir, meta\u001b[38;5;241m=\u001b[39m\u001b[38;5;28;01mTrue\u001b[39;00m)\n",
      "\u001b[0;31mImportError\u001b[0m: attempted relative import with no known parent package"
     ]
    }
   ],
   "source": [
    "from ..datasets import PGN_HDF_Dataset\n",
    "\n",
    "dest_dir = \"/root/chess-hackathon-4/data/gm_pgn_hdfs\"\n",
    "ds = PGN_HDF_Dataset(dest_dir, meta=True)\n",
    "print(len(ds))\n",
    "\n",
    "pgn, meta = ds[0]\n",
    "print(pgn)\n",
    "print(meta)\n",
    "\n",
    "ds = PGN_HDF_Dataset(dest_dir, meta=False)\n",
    "\n",
    "pgn = ds[0]\n",
    "print(pgn)"
   ]
  },
  {
   "cell_type": "code",
   "execution_count": null,
   "metadata": {},
   "outputs": [],
   "source": []
  }
 ],
 "metadata": {
  "kernelspec": {
   "display_name": ".chess",
   "language": "python",
   "name": "python3"
  },
  "language_info": {
   "codemirror_mode": {
    "name": "ipython",
    "version": 3
   },
   "file_extension": ".py",
   "mimetype": "text/x-python",
   "name": "python",
   "nbconvert_exporter": "python",
   "pygments_lexer": "ipython3",
   "version": "3.10.12"
  }
 },
 "nbformat": 4,
 "nbformat_minor": 2
}
